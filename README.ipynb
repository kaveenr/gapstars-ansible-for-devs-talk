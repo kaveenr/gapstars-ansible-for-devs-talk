{
 "cells": [
  {
   "attachments": {},
   "cell_type": "markdown",
   "metadata": {},
   "source": [
    "# Ansible For Developers Demo\n",
    "\n",
    "Demonstration Notebook for https://demo.ukr.lk"
   ]
  },
  {
   "attachments": {},
   "cell_type": "markdown",
   "metadata": {},
   "source": [
    "## Checking the inventory"
   ]
  },
  {
   "attachments": {},
   "cell_type": "markdown",
   "metadata": {},
   "source": [
    "### Listing the inventory"
   ]
  },
  {
   "cell_type": "code",
   "execution_count": 1,
   "metadata": {},
   "outputs": [
    {
     "name": "stdout",
     "output_type": "stream",
     "text": [
      "{\n",
      "    \"_meta\": {\n",
      "        \"hostvars\": {\n",
      "            \"vm01\": {\n",
      "                \"ansible_host\": \"demo.ukr.lk\",\n",
      "                \"ansible_user\": \"root\"\n",
      "            }\n",
      "        }\n",
      "    },\n",
      "    \"all\": {\n",
      "        \"children\": [\n",
      "            \"ungrouped\",\n",
      "            \"webservers\"\n",
      "        ]\n",
      "    },\n",
      "    \"webservers\": {\n",
      "        \"hosts\": [\n",
      "            \"vm01\"\n",
      "        ]\n",
      "    }\n",
      "}\n"
     ]
    }
   ],
   "source": [
    "!ansible-inventory -i inventory.yaml --list"
   ]
  },
  {
   "attachments": {},
   "cell_type": "markdown",
   "metadata": {},
   "source": [
    "### Ping the hosts on the inventory"
   ]
  },
  {
   "cell_type": "code",
   "execution_count": 4,
   "metadata": {},
   "outputs": [
    {
     "name": "stdout",
     "output_type": "stream",
     "text": [
      "\u001b[0;32mvm01 | SUCCESS => {\u001b[0m\n",
      "\u001b[0;32m    \"ansible_facts\": {\u001b[0m\n",
      "\u001b[0;32m        \"discovered_interpreter_python\": \"/usr/bin/python3\"\u001b[0m\n",
      "\u001b[0;32m    },\u001b[0m\n",
      "\u001b[0;32m    \"changed\": false,\u001b[0m\n",
      "\u001b[0;32m    \"ping\": \"pong\"\u001b[0m\n",
      "\u001b[0;32m}\u001b[0m\n"
     ]
    }
   ],
   "source": [
    "!ansible webservers -m ping -i inventory.yaml"
   ]
  },
  {
   "attachments": {},
   "cell_type": "markdown",
   "metadata": {},
   "source": [
    "## Running Playbooks"
   ]
  },
  {
   "attachments": {},
   "cell_type": "markdown",
   "metadata": {},
   "source": [
    "### Run complete playbook"
   ]
  },
  {
   "cell_type": "code",
   "execution_count": 5,
   "metadata": {},
   "outputs": [
    {
     "name": "stdout",
     "output_type": "stream",
     "text": [
      "\n",
      "PLAY [Configure Webservers] ****************************************************\n",
      "\n",
      "TASK [Gathering Facts] *********************************************************\n",
      "\u001b[0;32mok: [vm01]\u001b[0m\n",
      "\n",
      "TASK [Latest nginx is installed and present] ***********************************\n",
      "\u001b[0;32mok: [vm01]\u001b[0m\n",
      "\n",
      "TASK [Static website content is present] ***************************************\n",
      "\u001b[0;32mok: [vm01]\u001b[0m\n",
      "\n",
      "TASK [Nginx configuration applied] *********************************************\n",
      "\u001b[0;32mok: [vm01]\u001b[0m\n",
      "\n",
      "PLAY RECAP *********************************************************************\n",
      "\u001b[0;32mvm01\u001b[0m                       : \u001b[0;32mok=4   \u001b[0m changed=0    unreachable=0    failed=0    skipped=0    rescued=0    ignored=0   \n",
      "\n"
     ]
    }
   ],
   "source": [
    "!ansible-playbook -i inventory.yaml playbook.yaml"
   ]
  },
  {
   "attachments": {},
   "cell_type": "markdown",
   "metadata": {},
   "source": [
    "### Running in check mode"
   ]
  },
  {
   "cell_type": "code",
   "execution_count": 7,
   "metadata": {},
   "outputs": [
    {
     "name": "stdout",
     "output_type": "stream",
     "text": [
      "\n",
      "PLAY [Configure Servers] *******************************************************\n",
      "\n",
      "TASK [Gathering Facts] *********************************************************\n",
      "\u001b[0;32mok: [vm01]\u001b[0m\n",
      "\n",
      "TASK [Apt cache is updated] ****************************************************\n",
      "\u001b[0;33mchanged: [vm01]\u001b[0m\n",
      "\n",
      "TASK [Custom MOTD is set] ******************************************************\n",
      "\u001b[0;32mok: [vm01]\u001b[0m\n",
      "\n",
      "PLAY [Configure Webservers] ****************************************************\n",
      "\n",
      "TASK [Gathering Facts] *********************************************************\n",
      "\u001b[0;32mok: [vm01]\u001b[0m\n",
      "\n",
      "TASK [geerlingguy.firewall : Ensure iptables is present.] **********************\n",
      "\u001b[0;32mok: [vm01]\u001b[0m\n",
      "\n",
      "TASK [geerlingguy.firewall : Flush iptables the first time playbook runs.] *****\n",
      "\u001b[0;32mok: [vm01]\u001b[0m\n",
      "\n",
      "TASK [geerlingguy.firewall : Copy firewall script into place.] *****************\n",
      "\u001b[0;32mok: [vm01]\u001b[0m\n",
      "\n",
      "TASK [geerlingguy.firewall : Copy firewall init script into place.] ************\n",
      "\u001b[0;36mskipping: [vm01]\u001b[0m\n",
      "\n",
      "TASK [geerlingguy.firewall : Copy firewall systemd unit file into place (for systemd systems).] ***\n",
      "\u001b[0;32mok: [vm01]\u001b[0m\n",
      "\n",
      "TASK [geerlingguy.firewall : Configure the firewall service.] ******************\n",
      "\u001b[0;32mok: [vm01]\u001b[0m\n",
      "\n",
      "TASK [geerlingguy.firewall : Check if firewalld package is installed (on RHEL).] ***\n",
      "\u001b[0;36mskipping: [vm01]\u001b[0m\n",
      "\n",
      "TASK [geerlingguy.firewall : Disable the firewalld service (on RHEL, if configured).] ***\n",
      "\u001b[0;36mskipping: [vm01]\u001b[0m\n",
      "\n",
      "TASK [geerlingguy.firewall : Check if ufw package is installed (on Ubuntu).] ***\n",
      "\u001b[0;36mskipping: [vm01]\u001b[0m\n",
      "\n",
      "TASK [geerlingguy.firewall : Disable the ufw firewall (on Ubuntu, if configured).] ***\n",
      "\u001b[0;36mskipping: [vm01]\u001b[0m\n",
      "\n",
      "TASK [geerlingguy.firewall : Check if ufw package is installed (on Archlinux).] ***\n",
      "\u001b[0;36mskipping: [vm01]\u001b[0m\n",
      "\n",
      "TASK [geerlingguy.firewall : Disable the ufw firewall (on Archlinux, if configured).] ***\n",
      "\u001b[0;36mskipping: [vm01]\u001b[0m\n",
      "\n",
      "TASK [geerlingguy.certbot : Load a variable file based on the OS type, or a default if not found.] ***\n",
      "\u001b[0;32mok: [vm01] => (item=/Users/ukr/.ansible/roles/geerlingguy.certbot/vars/default.yml)\u001b[0m\n",
      "\n",
      "TASK [geerlingguy.certbot : Ensure dnf-plugins are installed on CentOS 8+.] ****\n",
      "\u001b[0;36mskipping: [vm01]\u001b[0m\n",
      "\n",
      "TASK [geerlingguy.certbot : Enable DNF module for CentOS 8.3+.] ****************\n",
      "\u001b[0;36mskipping: [vm01]\u001b[0m\n",
      "\n",
      "TASK [geerlingguy.certbot : Enable DNF module for CentOS 8.0–8.2.] *************\n",
      "\u001b[0;36mskipping: [vm01]\u001b[0m\n",
      "\n",
      "TASK [geerlingguy.certbot : Install Certbot.] **********************************\n",
      "\u001b[0;32mok: [vm01]\u001b[0m\n",
      "\n",
      "TASK [geerlingguy.certbot : Set Certbot script variable.] **********************\n",
      "\u001b[0;32mok: [vm01]\u001b[0m\n",
      "\n",
      "TASK [geerlingguy.certbot : Ensure snapd is installed.] ************************\n",
      "\u001b[0;36mskipping: [vm01]\u001b[0m\n",
      "\n",
      "TASK [geerlingguy.certbot : Ensure snapd is enabled.] **************************\n",
      "\u001b[0;36mskipping: [vm01]\u001b[0m\n",
      "\n",
      "TASK [geerlingguy.certbot : Enable classic snap support.] **********************\n",
      "\u001b[0;36mskipping: [vm01]\u001b[0m\n",
      "\n",
      "TASK [geerlingguy.certbot : Update snap after install.] ************************\n",
      "\u001b[0;36mskipping: [vm01]\u001b[0m\n",
      "\n",
      "TASK [geerlingguy.certbot : Install certbot via snap.] *************************\n",
      "\u001b[0;36mskipping: [vm01]\u001b[0m\n",
      "\n",
      "TASK [geerlingguy.certbot : Symlink certbot into place.] ***********************\n",
      "\u001b[0;36mskipping: [vm01]\u001b[0m\n",
      "\n",
      "TASK [geerlingguy.certbot : Set Certbot script variable.] **********************\n",
      "\u001b[0;36mskipping: [vm01]\u001b[0m\n",
      "\n",
      "TASK [geerlingguy.certbot : Clone Certbot into configured directory.] **********\n",
      "\u001b[0;36mskipping: [vm01]\u001b[0m\n",
      "\n",
      "TASK [geerlingguy.certbot : Set Certbot script variable.] **********************\n",
      "\u001b[0;36mskipping: [vm01]\u001b[0m\n",
      "\n",
      "TASK [geerlingguy.certbot : Ensure certbot-auto is executable.] ****************\n",
      "\u001b[0;36mskipping: [vm01]\u001b[0m\n",
      "\n",
      "TASK [geerlingguy.certbot : include_tasks] *************************************\n",
      "\u001b[0;36mincluded: /Users/ukr/.ansible/roles/geerlingguy.certbot/tasks/create-cert-standalone.yml for vm01 => (item={'domains': ['demo.ukr.lk']})\u001b[0m\n",
      "\n",
      "TASK [geerlingguy.certbot : Check if certificate already exists.] **************\n",
      "\u001b[0;32mok: [vm01]\u001b[0m\n",
      "\n",
      "TASK [geerlingguy.certbot : Ensure pre and post hook folders exist.] ***********\n",
      "\u001b[0;32mok: [vm01] => (item=pre)\u001b[0m\n",
      "\u001b[0;32mok: [vm01] => (item=post)\u001b[0m\n",
      "\n",
      "TASK [geerlingguy.certbot : Create pre hook to stop services.] *****************\n",
      "\u001b[0;32mok: [vm01]\u001b[0m\n",
      "\n",
      "TASK [geerlingguy.certbot : Create post hook to start services.] ***************\n",
      "\u001b[0;32mok: [vm01]\u001b[0m\n",
      "\n",
      "TASK [geerlingguy.certbot : Generate new certificate if one doesn't exist.] ****\n",
      "\u001b[0;36mskipping: [vm01]\u001b[0m\n",
      "\n",
      "TASK [geerlingguy.certbot : include_tasks] *************************************\n",
      "\u001b[0;36mskipping: [vm01] => (item={'domains': ['demo.ukr.lk']}) \u001b[0m\n",
      "\u001b[0;36mskipping: [vm01]\u001b[0m\n",
      "\n",
      "TASK [geerlingguy.certbot : Add cron job for certbot renewal (if configured).] ***\n",
      "\u001b[0;32mok: [vm01]\u001b[0m\n",
      "\n",
      "TASK [Latest nginx is installed and present] ***********************************\n",
      "\u001b[0;32mok: [vm01]\u001b[0m\n",
      "\n",
      "TASK [Static website content is present] ***************************************\n",
      "\u001b[0;32mok: [vm01]\u001b[0m\n",
      "\n",
      "TASK [Nginx configuration applied] *********************************************\n",
      "\u001b[0;32mok: [vm01]\u001b[0m\n",
      "\n",
      "PLAY RECAP *********************************************************************\n",
      "\u001b[0;33mvm01\u001b[0m                       : \u001b[0;32mok=21  \u001b[0m \u001b[0;33mchanged=1   \u001b[0m unreachable=0    failed=0    \u001b[0;36mskipped=22  \u001b[0m rescued=0    ignored=0   \n",
      "\n"
     ]
    }
   ],
   "source": [
    "!ansible-playbook -i inventory.yaml playbook.yaml --check --diff"
   ]
  },
  {
   "attachments": {},
   "cell_type": "markdown",
   "metadata": {},
   "source": [
    "### Run using tags"
   ]
  },
  {
   "cell_type": "code",
   "execution_count": 3,
   "metadata": {},
   "outputs": [
    {
     "name": "stdout",
     "output_type": "stream",
     "text": [
      "\n",
      "PLAY [Configure Servers] *******************************************************\n",
      "\n",
      "TASK [Gathering Facts] *********************************************************\n",
      "\u001b[0;32mok: [vm01]\u001b[0m\n",
      "\n",
      "PLAY [Configure Webservers] ****************************************************\n",
      "\n",
      "TASK [Gathering Facts] *********************************************************\n",
      "\u001b[0;32mok: [vm01]\u001b[0m\n",
      "\n",
      "PLAY RECAP *********************************************************************\n",
      "\u001b[0;32mvm01\u001b[0m                       : \u001b[0;32mok=2   \u001b[0m changed=0    unreachable=0    failed=0    skipped=0    rescued=0    ignored=0   \n",
      "\n"
     ]
    }
   ],
   "source": [
    "!ansible-playbook -i inventory.yaml playbook.yaml --tags source"
   ]
  },
  {
   "attachments": {},
   "cell_type": "markdown",
   "metadata": {},
   "source": [
    "## Using Ansible Galaxy"
   ]
  },
  {
   "cell_type": "code",
   "execution_count": 4,
   "metadata": {},
   "outputs": [
    {
     "name": "stdout",
     "output_type": "stream",
     "text": [
      "Starting galaxy role install process\n",
      "\u001b[1;35m[WARNING]: - geerlingguy.firewall (2.5.1) is already installed - use --force to\u001b[0m\n",
      "\u001b[1;35mchange version to unspecified\u001b[0m\n",
      "\u001b[1;35m[WARNING]: - geerlingguy.certbot (5.1.0) is already installed - use --force to\u001b[0m\n",
      "\u001b[1;35mchange version to unspecified\u001b[0m\n"
     ]
    }
   ],
   "source": [
    "!ansible-galaxy install -r requirements.yml"
   ]
  }
 ],
 "metadata": {
  "kernelspec": {
   "display_name": "Python 3",
   "language": "python",
   "name": "python3"
  },
  "language_info": {
   "codemirror_mode": {
    "name": "ipython",
    "version": 3
   },
   "file_extension": ".py",
   "mimetype": "text/x-python",
   "name": "python",
   "nbconvert_exporter": "python",
   "pygments_lexer": "ipython3",
   "version": "3.10.11"
  },
  "orig_nbformat": 4
 },
 "nbformat": 4,
 "nbformat_minor": 2
}
