{
 "cells": [
  {
   "attachments": {},
   "cell_type": "markdown",
   "metadata": {},
   "source": [
    "# Ansible For Developers Demo\n",
    "\n",
    "## Listing the inventory"
   ]
  },
  {
   "cell_type": "code",
   "execution_count": 1,
   "metadata": {},
   "outputs": [
    {
     "name": "stdout",
     "output_type": "stream",
     "text": [
      "{\n",
      "    \"_meta\": {\n",
      "        \"hostvars\": {\n",
      "            \"vm01\": {\n",
      "                \"ansible_host\": \"demo.ukr.lk\",\n",
      "                \"ansible_user\": \"root\"\n",
      "            }\n",
      "        }\n",
      "    },\n",
      "    \"all\": {\n",
      "        \"children\": [\n",
      "            \"ungrouped\",\n",
      "            \"webservers\"\n",
      "        ]\n",
      "    },\n",
      "    \"webservers\": {\n",
      "        \"hosts\": [\n",
      "            \"vm01\"\n",
      "        ]\n",
      "    }\n",
      "}\n"
     ]
    }
   ],
   "source": [
    "!ansible-inventory -i inventory.yaml --list"
   ]
  },
  {
   "attachments": {},
   "cell_type": "markdown",
   "metadata": {},
   "source": [
    "## Ping the hosts on the inventory"
   ]
  },
  {
   "cell_type": "code",
   "execution_count": 4,
   "metadata": {},
   "outputs": [
    {
     "name": "stdout",
     "output_type": "stream",
     "text": [
      "\u001b[0;32mvm01 | SUCCESS => {\u001b[0m\n",
      "\u001b[0;32m    \"ansible_facts\": {\u001b[0m\n",
      "\u001b[0;32m        \"discovered_interpreter_python\": \"/usr/bin/python3\"\u001b[0m\n",
      "\u001b[0;32m    },\u001b[0m\n",
      "\u001b[0;32m    \"changed\": false,\u001b[0m\n",
      "\u001b[0;32m    \"ping\": \"pong\"\u001b[0m\n",
      "\u001b[0;32m}\u001b[0m\n"
     ]
    }
   ],
   "source": [
    "!ansible webservers -m ping -i inventory.yaml"
   ]
  },
  {
   "attachments": {},
   "cell_type": "markdown",
   "metadata": {},
   "source": [
    "## Run the playbook!"
   ]
  },
  {
   "cell_type": "code",
   "execution_count": 5,
   "metadata": {},
   "outputs": [
    {
     "name": "stdout",
     "output_type": "stream",
     "text": [
      "\n",
      "PLAY [Setup Webservers] ********************************************************\n",
      "\n",
      "TASK [Gathering Facts] *********************************************************\n",
      "\u001b[0;32mok: [vm01]\u001b[0m\n",
      "\n",
      "TASK [Update apt cache and install Nginx] **************************************\n",
      "\u001b[0;32mok: [vm01]\u001b[0m\n",
      "\n",
      "TASK [Copy static website to document root] ************************************\n",
      "\u001b[0;33mchanged: [vm01]\u001b[0m\n",
      "\n",
      "PLAY RECAP *********************************************************************\n",
      "\u001b[0;33mvm01\u001b[0m                       : \u001b[0;32mok=3   \u001b[0m \u001b[0;33mchanged=1   \u001b[0m unreachable=0    failed=0    skipped=0    rescued=0    ignored=0   \n",
      "\n"
     ]
    }
   ],
   "source": [
    "!ansible-playbook -i inventory.yaml playbook.yaml"
   ]
  }
 ],
 "metadata": {
  "kernelspec": {
   "display_name": "Python 3",
   "language": "python",
   "name": "python3"
  },
  "language_info": {
   "codemirror_mode": {
    "name": "ipython",
    "version": 3
   },
   "file_extension": ".py",
   "mimetype": "text/x-python",
   "name": "python",
   "nbconvert_exporter": "python",
   "pygments_lexer": "ipython3",
   "version": "3.11.3"
  },
  "orig_nbformat": 4
 },
 "nbformat": 4,
 "nbformat_minor": 2
}
